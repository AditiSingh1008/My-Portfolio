{
 "cells": [
  {
   "cell_type": "code",
   "execution_count": 1,
   "id": "0f506908",
   "metadata": {},
   "outputs": [
    {
     "name": "stdout",
     "output_type": "stream",
     "text": [
      "hello world\n"
     ]
    }
   ],
   "source": [
    "print(\"hello world\")"
   ]
  },
  {
   "cell_type": "code",
   "execution_count": 2,
   "id": "98db89a5",
   "metadata": {},
   "outputs": [
    {
     "name": "stdout",
     "output_type": "stream",
     "text": [
      "14\n"
     ]
    }
   ],
   "source": [
    "print(6+8)"
   ]
  },
  {
   "cell_type": "code",
   "execution_count": 3,
   "id": "c9b1d607",
   "metadata": {},
   "outputs": [
    {
     "name": "stdout",
     "output_type": "stream",
     "text": [
      "hello aditi\n"
     ]
    }
   ],
   "source": [
    "print('hello aditi')"
   ]
  },
  {
   "cell_type": "code",
   "execution_count": 5,
   "id": "516b7520",
   "metadata": {},
   "outputs": [
    {
     "name": "stdout",
     "output_type": "stream",
     "text": [
      "hello welcome to the AI lab\n"
     ]
    }
   ],
   "source": [
    "print(\"hello\"+\" welcome to the AI lab\")"
   ]
  },
  {
   "cell_type": "code",
   "execution_count": 6,
   "id": "55a6a6df",
   "metadata": {},
   "outputs": [],
   "source": [
    "my_list=[1,2,3]"
   ]
  },
  {
   "cell_type": "code",
   "execution_count": 7,
   "id": "81197dce",
   "metadata": {},
   "outputs": [
    {
     "name": "stdout",
     "output_type": "stream",
     "text": [
      "[1, 2, 3]\n"
     ]
    }
   ],
   "source": [
    "print(my_list)"
   ]
  },
  {
   "cell_type": "code",
   "execution_count": 8,
   "id": "c874f1f2",
   "metadata": {},
   "outputs": [],
   "source": [
    "my_tuple=(1,2,3)"
   ]
  },
  {
   "cell_type": "code",
   "execution_count": 10,
   "id": "3ca73fc0",
   "metadata": {},
   "outputs": [
    {
     "name": "stdout",
     "output_type": "stream",
     "text": [
      "(1, 2, 3)\n"
     ]
    }
   ],
   "source": [
    "print(my_tuple)"
   ]
  },
  {
   "cell_type": "code",
   "execution_count": 18,
   "id": "5c1dfa82",
   "metadata": {},
   "outputs": [],
   "source": [
    "my_dictionary={\"key1\":\"apple\",'\n",
    "               \"key2\":\"mango\"}\n"
   ]
  },
  {
   "cell_type": "code",
   "execution_count": 12,
   "id": "8414cc88",
   "metadata": {},
   "outputs": [
    {
     "name": "stdout",
     "output_type": "stream",
     "text": [
      "{'key1': 'apple'}\n"
     ]
    }
   ],
   "source": [
    "print(my_dictionary)"
   ]
  },
  {
   "cell_type": "code",
   "execution_count": 20,
   "id": "c029b0a5",
   "metadata": {},
   "outputs": [
    {
     "name": "stdout",
     "output_type": "stream",
     "text": [
      "apple\n"
     ]
    }
   ],
   "source": [
    "print(my_dictionary[\"key1\"])"
   ]
  },
  {
   "cell_type": "code",
   "execution_count": 19,
   "id": "a0025faf",
   "metadata": {},
   "outputs": [
    {
     "name": "stdout",
     "output_type": "stream",
     "text": [
      "mango\n"
     ]
    }
   ],
   "source": [
    "print(my_dictionary[\"key2\"])"
   ]
  },
  {
   "cell_type": "code",
   "execution_count": 31,
   "id": "ff235404",
   "metadata": {},
   "outputs": [],
   "source": [
    "# my_list1=[34,56,89,23,90]\n",
    "# minimum_num=min(my_list1)\n",
    "# print(minimum_num)\n"
   ]
  },
  {
   "cell_type": "code",
   "execution_count": 33,
   "id": "0481e764",
   "metadata": {},
   "outputs": [
    {
     "ename": "TypeError",
     "evalue": "'list' object is not callable",
     "output_type": "error",
     "traceback": [
      "\u001b[1;31m---------------------------------------------------------------------------\u001b[0m",
      "\u001b[1;31mTypeError\u001b[0m                                 Traceback (most recent call last)",
      "Cell \u001b[1;32mIn[33], line 3\u001b[0m\n\u001b[0;32m      1\u001b[0m my_list1\u001b[38;5;241m=\u001b[39m[\u001b[38;5;241m34\u001b[39m,\u001b[38;5;241m56\u001b[39m,\u001b[38;5;241m89\u001b[39m,\u001b[38;5;241m12\u001b[39m]\n\u001b[1;32m----> 3\u001b[0m \u001b[38;5;28mprint\u001b[39m(\u001b[38;5;28mmax\u001b[39m(my_list1))\n",
      "\u001b[1;31mTypeError\u001b[0m: 'list' object is not callable"
     ]
    }
   ],
   "source": [
    "my_list1=[34,56,89,12]\n",
    "\n",
    "print(max(my_list1))"
   ]
  },
  {
   "cell_type": "code",
   "execution_count": 34,
   "id": "4ff28233",
   "metadata": {},
   "outputs": [],
   "source": [
    "list1=[5,8,3]\n",
    "list2=[9,2,4]\n"
   ]
  },
  {
   "cell_type": "code",
   "execution_count": 36,
   "id": "06ef9596",
   "metadata": {},
   "outputs": [
    {
     "ename": "TypeError",
     "evalue": "'list' object is not callable",
     "output_type": "error",
     "traceback": [
      "\u001b[1;31m---------------------------------------------------------------------------\u001b[0m",
      "\u001b[1;31mTypeError\u001b[0m                                 Traceback (most recent call last)",
      "Cell \u001b[1;32mIn[36], line 4\u001b[0m\n\u001b[0;32m      2\u001b[0m number \u001b[38;5;241m=\u001b[39m [\u001b[38;5;241m54\u001b[39m,\u001b[38;5;241m67\u001b[39m,\u001b[38;5;241m12\u001b[39m,\u001b[38;5;241m33\u001b[39m,\u001b[38;5;241m69\u001b[39m,\u001b[38;5;241m32\u001b[39m] \n\u001b[0;32m      3\u001b[0m \u001b[38;5;66;03m#printing max element \u001b[39;00m\n\u001b[1;32m----> 4\u001b[0m \u001b[38;5;28mprint\u001b[39m(\u001b[38;5;28mmax\u001b[39m(number))\n",
      "\u001b[1;31mTypeError\u001b[0m: 'list' object is not callable"
     ]
    }
   ],
   "source": [
    "#creating a list \n",
    "number = [54,67,12,33,69,32] \n",
    "#printing max element \n",
    "print(max(number))\n"
   ]
  },
  {
   "cell_type": "code",
   "execution_count": null,
   "id": "66c660a4",
   "metadata": {},
   "outputs": [],
   "source": []
  }
 ],
 "metadata": {
  "kernelspec": {
   "display_name": "Python 3 (ipykernel)",
   "language": "python",
   "name": "python3"
  },
  "language_info": {
   "codemirror_mode": {
    "name": "ipython",
    "version": 3
   },
   "file_extension": ".py",
   "mimetype": "text/x-python",
   "name": "python",
   "nbconvert_exporter": "python",
   "pygments_lexer": "ipython3",
   "version": "3.11.5"
  }
 },
 "nbformat": 4,
 "nbformat_minor": 5
}
